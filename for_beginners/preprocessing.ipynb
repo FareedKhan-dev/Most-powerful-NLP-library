{
 "cells": [
  {
   "cell_type": "code",
   "execution_count": 1,
   "metadata": {},
   "outputs": [
    {
     "name": "stderr",
     "output_type": "stream",
     "text": [
      "c:\\Users\\faree\\Desktop\\gemini_chatbot\\.venv-gemini-bot\\lib\\site-packages\\tqdm\\auto.py:21: TqdmWarning: IProgress not found. Please update jupyter and ipywidgets. See https://ipywidgets.readthedocs.io/en/stable/user_install.html\n",
      "  from .autonotebook import tqdm as notebook_tqdm\n"
     ]
    }
   ],
   "source": [
    "import google.generativeai as genai\n",
    "\n",
    "model = genai.GenerativeModel('gemini-pro')\n",
    "\n",
    "# Your API key goes here\n",
    "genai.configure(api_key=\"\")"
   ]
  },
  {
   "cell_type": "markdown",
   "metadata": {},
   "source": [
    "**Core NLP Tasks:**\n",
    "   - Tokenization, Lemmatization, and Stemming."
   ]
  },
  {
   "cell_type": "code",
   "execution_count": null,
   "metadata": {},
   "outputs": [
    {
     "name": "stdout",
     "output_type": "stream",
     "text": [
      "['The', 'cats', 'are', 'running', 'and', 'playing', 'in', 'the', 'gardens', ',', 'while', 'the', 'dogs', 'are', 'barking', 'loudly', 'and', 'chasing', 'their', 'tails']\n"
     ]
    }
   ],
   "source": [
    "#################################### Tokenization Implementation ####################################\n",
    "\n",
    "# input text\n",
    "user_input = '''The cats are running and playing in the gardens, while the dogs are barking loudly and chasing their tails'''\n",
    "\n",
    "# question to be asked\n",
    "question = f'''Given the input sentence perform tokenization on it\n",
    "{user_input}\n",
    "output must be a list of tokens\n",
    "'''\n",
    "\n",
    "# generate response\n",
    "response = model.generate_content(question)\n",
    "\n",
    "# convert string of list to list using ast\n",
    "list_str = response.text.replace(\"True\", \"True,\")\n",
    "list_str = list_str.replace(\"False\", \"False,\")\n",
    "list_str = list_str.replace(\"None\", \"None,\")\n",
    "list_str = ast.literal_eval(list_str)\n",
    "print(list_str)"
   ]
  },
  {
   "cell_type": "code",
   "execution_count": null,
   "metadata": {},
   "outputs": [
    {
     "data": {
      "text/plain": [
       "'The cat be run and play in the garden, while the dog be bark loud and chase their tail'"
      ]
     },
     "metadata": {},
     "output_type": "display_data"
    }
   ],
   "source": [
    "#################################### Lemmatization Implementation ####################################\n",
    "\n",
    "# input text\n",
    "user_input = '''The cats are running and playing in the gardens, while the dogs are barking loudly and chasing their tails'''\n",
    "\n",
    "# question to be asked\n",
    "question = f'''Given the input sentence perform Lemmatization on it\n",
    "{user_input}\n",
    "output must be that lemmatized sentence\n",
    "'''\n",
    "\n",
    "# generate response\n",
    "response = model.generate_content(question)\n",
    "response.text"
   ]
  },
  {
   "cell_type": "code",
   "execution_count": null,
   "metadata": {},
   "outputs": [
    {
     "data": {
      "text/plain": [
       "'cat run play garden , dog bark loud chase tail'"
      ]
     },
     "metadata": {},
     "output_type": "display_data"
    }
   ],
   "source": [
    "#################################### Stemming Implementation ####################################\n",
    "\n",
    "# input text\n",
    "user_input = '''The cats are running and playing in the gardens, while the dogs are barking loudly and chasing their tails'''\n",
    "\n",
    "# question to be asked\n",
    "question = f'''Given the input sentence perform Stemming on it\n",
    "{user_input}\n",
    "output must be that lemmatized sentence\n",
    "'''\n",
    "\n",
    "# generate response\n",
    "response = model.generate_content(question)\n",
    "response.text"
   ]
  },
  {
   "cell_type": "markdown",
   "metadata": {},
   "source": [
    "**Text Pattern Matching:**\n",
    "   - Use regex to find and extract specific patterns or sequences of characters in a text."
   ]
  },
  {
   "cell_type": "code",
   "execution_count": 74,
   "metadata": {},
   "outputs": [
    {
     "name": "stdout",
     "output_type": "stream",
     "text": [
      "['fareed khan', '123-456-7890', '523-456-7892', 'x123@gmail.com']\n"
     ]
    }
   ],
   "source": [
    "#################################### Pattern Matching Implementation ####################################\n",
    "\n",
    "# input text\n",
    "user_input = '''The phone number of fareed khan are 123-456-7890 and 523-456-7892. Please call for assistance and email me at x123@gmail.com'''\n",
    "\n",
    "\n",
    "pattern_matching = '''emal, phone number, name'''\n",
    "\n",
    "# question to be asked\n",
    "question = f'''Given the input sentence extract {pattern_matching} on it\n",
    "{user_input}\n",
    "output just contain the extracted pattern and no contain pattern name\n",
    "'''\n",
    "\n",
    "# generate response\n",
    "response = model.generate_content(question)\n",
    "output_list = response.text.split('\\n')\n",
    "\n",
    "# print output\n",
    "print(output_list)"
   ]
  },
  {
   "cell_type": "markdown",
   "metadata": {},
   "source": [
    "**Text Cleaning:**\n",
    "   - Preprocess text data by removing or replacing unwanted characters, symbols, or patterns using regex."
   ]
  },
  {
   "cell_type": "code",
   "execution_count": 2,
   "metadata": {},
   "outputs": [
    {
     "data": {
      "text/plain": [
       "'Fareed Khan will arrive at 9:00 AM. He will meet you at the airport. He will be driving a black BMW. His license plate is 123-456-7890.'"
      ]
     },
     "execution_count": 2,
     "metadata": {},
     "output_type": "execute_result"
    }
   ],
   "source": [
    "#################################### Text Cleaning Implementation ####################################\n",
    "\n",
    "# input text\n",
    "user_input = '''faree$$@$%d khan will arrive at 9:00 AM. He will@%$ 1meet you at the airport. He will be driving a black BMW. His license plate is 123-456-7890.'''\n",
    "\n",
    "# question to be asked\n",
    "question = f'''Given the input sentence clean the text but dont change words\n",
    "{user_input}\n",
    "'''\n",
    "\n",
    "# generate response\n",
    "response = model.generate_content(question)\n",
    "response.text"
   ]
  },
  {
   "cell_type": "markdown",
   "metadata": {},
   "source": [
    "**HTML Tag Removal:**\n",
    "   - Remove HTML tags from text using regex patterns to extract only the textual content."
   ]
  },
  {
   "cell_type": "code",
   "execution_count": 4,
   "metadata": {},
   "outputs": [
    {
     "data": {
      "text/plain": [
       "'This is bold and italic text.'"
      ]
     },
     "execution_count": 4,
     "metadata": {},
     "output_type": "execute_result"
    }
   ],
   "source": [
    "#################################### HTML Tag Removal Implementation ####################################\n",
    "\n",
    "# input text\n",
    "user_input = '''<p>This is <b>bold</b> and <i>italic</i> text.</p>'''\n",
    "\n",
    "html_tags = '''<p>, <b>, <i>'''\n",
    "\n",
    "# question to be asked\n",
    "question = f'''Given the input sentence remove html tags\n",
    "html tags to remove: {html_tags}\n",
    "{user_input}\n",
    "'''\n",
    "\n",
    "# generate response\n",
    "response = model.generate_content(question)\n",
    "response.text"
   ]
  },
  {
   "cell_type": "markdown",
   "metadata": {},
   "source": [
    "**Text Replacement:**\n",
    "   - Replace specific words, phrases, or patterns in a text using regex substitution."
   ]
  },
  {
   "cell_type": "code",
   "execution_count": 9,
   "metadata": {},
   "outputs": [
    {
     "data": {
      "text/plain": [
       "\"I like rabbits, but I don't like horses.\""
      ]
     },
     "execution_count": 9,
     "metadata": {},
     "output_type": "execute_result"
    }
   ],
   "source": [
    "#################################### Text Replacement Implementation ####################################\n",
    "\n",
    "# input text\n",
    "user_input = '''I like cats, but I don't like dogs.'''\n",
    "\n",
    "to_replace = '''cats to rabbits, dogs to horses'''\n",
    "\n",
    "# question to be asked\n",
    "question = f'''Given the input sentence remove html tags\n",
    "word to replace: {to_replace}\n",
    "{user_input}\n",
    "'''\n",
    "\n",
    "# generate response\n",
    "response = model.generate_content(question)\n",
    "response.text"
   ]
  },
  {
   "cell_type": "markdown",
   "metadata": {},
   "source": [
    "**Embedding Vectors:**\n",
    "   - Extracting Embedding vectors for sentences or words. This vector representation makes it possible to easily compare the similarity between different pieces of text by comparing their corresponding embedding vectors"
   ]
  },
  {
   "cell_type": "code",
   "execution_count": 40,
   "metadata": {},
   "outputs": [
    {
     "name": "stdout",
     "output_type": "stream",
     "text": [
      "[-0.00032265935, -0.02185738, -0.054647334, -0.05236416, -0.0069813444, -0.007566559, 0.027526703, -0.037474222, -0.00027085998, 0.024460971]\n",
      "[-0.010368639, -0.008191745, -0.045379087, -0.07227979, -0.011918565, 0.02593602, -0.05807084, -0.0426125, 0.021788236, 0.037687354]\n"
     ]
    }
   ],
   "source": [
    "#################################### Embedding Extraction Implementation ####################################\n",
    "\n",
    "user_input = ['''I like cats, but I don't like dogs.''', '''cat are good''']\n",
    "\n",
    "output = genai.embed_content(\n",
    "    model=\"models/embedding-001\",\n",
    "    content=user_input)\n",
    "\n",
    "for i in output['embedding']:\n",
    "    print(i[:10])"
   ]
  }
 ],
 "metadata": {
  "kernelspec": {
   "display_name": ".venv-gemini-bot",
   "language": "python",
   "name": "python3"
  },
  "language_info": {
   "codemirror_mode": {
    "name": "ipython",
    "version": 3
   },
   "file_extension": ".py",
   "mimetype": "text/x-python",
   "name": "python",
   "nbconvert_exporter": "python",
   "pygments_lexer": "ipython3",
   "version": "3.9.0"
  }
 },
 "nbformat": 4,
 "nbformat_minor": 2
}
